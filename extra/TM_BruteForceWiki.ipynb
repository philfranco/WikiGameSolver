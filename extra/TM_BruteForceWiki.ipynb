{
 "cells": [
  {
   "cell_type": "code",
   "execution_count": 1,
   "metadata": {},
   "outputs": [],
   "source": [
    "import requests\n",
    "from bs4 import BeautifulSoup\n",
    "from nltk.tokenize import word_tokenize\n"
   ]
  },
  {
   "cell_type": "code",
   "execution_count": 2,
   "metadata": {},
   "outputs": [],
   "source": [
    "def getText(start_article, end_article):\n",
    "    url = 'https://en.wikipedia.org/w/api.php'\n",
    "    params = {\n",
    "                'action': 'parse',\n",
    "                'page': start_article,\n",
    "                'format': 'json',\n",
    "                'prop':'text',\n",
    "                'redirects':''\n",
    "            }\n",
    " \n",
    "    response = requests.get(url, params=params)\n",
    "    data = response.json()\n",
    " \n",
    "    raw_html = data['parse']['text']['*']\n",
    "    soup = BeautifulSoup(raw_html,'html.parser')\n",
    "    soup.find_all('p')\n",
    "    text = ''\n",
    " \n",
    "    for p in soup.find_all('p'):\n",
    "        text += p.text\n",
    "    \n",
    "    print(len(word_tokenize(text)))\n",
    "    print('Number of words: ', len(text))\n",
    "\n",
    "    return text"
   ]
  },
  {
   "cell_type": "code",
   "execution_count": 3,
   "metadata": {},
   "outputs": [],
   "source": [
    "def getLinks(start_article): \n",
    "    url = 'https://en.wikipedia.org/w/api.php'\n",
    " \n",
    "    params = {\n",
    "        'action': 'query',\n",
    "        'format': 'json',\n",
    "        'titles': start_article,\n",
    "        'prop': 'links',\n",
    "        'pllimit': 'max',\n",
    "        'redirects':''\n",
    "    }\n",
    " \n",
    "    response = requests.get(url=url, params=params)\n",
    "    data = response.json()\n",
    " \n",
    "    pages = data['query']['pages']\n",
    "    page = 1\n",
    "    page_titles = []\n",
    " \n",
    "    for key, val in pages.items():\n",
    "        for link in val['links']:\n",
    "            page_titles.append(link['title'])\n",
    " \n",
    "    while 'continue' in data:\n",
    "        plcontinue = data['continue']['plcontinue']\n",
    "        params['plcontinue'] = plcontinue\n",
    " \n",
    "        response = requests.get(url=url, params=params)\n",
    "        data = response.json()\n",
    "        pages = data['query']['pages']\n",
    "     \n",
    "        page += 1\n",
    "     \n",
    "        for key, val in pages.items():\n",
    "            for link in val['links']:\n",
    "                page_titles.append(link['title'])\n",
    " \n",
    "    #page_titles[:3]\n",
    "    print(len(page_titles[:]))\n",
    "    return page_titles"
   ]
  },
  {
   "cell_type": "code",
   "execution_count": 4,
   "metadata": {
    "scrolled": true
   },
   "outputs": [
    {
     "name": "stdout",
     "output_type": "stream",
     "text": [
      "9\n",
      "Number of words:  47\n",
      "31\n"
     ]
    },
    {
     "data": {
      "text/plain": [
       "['California',\n",
       " 'Mississippi Landmark',\n",
       " 'National Register of Historic Places listings in Jefferson Davis Parish, Louisiana',\n",
       " 'Ocean Beach, San Diego',\n",
       " 'Royal Strand Theatre',\n",
       " 'Strand Theater (Allentown, Pennsylvania)',\n",
       " 'Strand Theater (Lexington, Mississippi)',\n",
       " 'Strand Theater (Louisville, Mississippi)',\n",
       " 'Strand Theater (Manchester, New Hampshire)',\n",
       " 'Strand Theater (Plattsburgh, New York)',\n",
       " 'Strand Theater (Syracuse, New York)',\n",
       " 'Strand Theater (Washington, D.C.)',\n",
       " 'Strand Theater (Zelienople, Pennsylvania)',\n",
       " 'Strand Theatre, London',\n",
       " 'Strand Theatre, Toowoomba',\n",
       " 'Strand Theatre (Boston)',\n",
       " 'Strand Theatre (Brooklyn)',\n",
       " 'Strand Theatre (Delaware, Ohio)',\n",
       " 'Strand Theatre (Grafton, North Dakota)',\n",
       " 'Strand Theatre (Ithaca, New York)',\n",
       " 'Strand Theatre (Jennings, Louisiana)',\n",
       " 'Strand Theatre (Lakewood, New Jersey)',\n",
       " 'Strand Theatre (Manhattan)',\n",
       " 'Strand Theatre (Marietta, Georgia)',\n",
       " 'Strand Theatre (Moundsville, West Virginia)',\n",
       " 'Strand Theatre (Rockland, Maine)',\n",
       " 'Strand Theatre (San Francisco)',\n",
       " 'Strand Theatre (Shreveport, Louisiana)',\n",
       " 'Strand Theatre fire',\n",
       " 'Talk:Strand Theatre',\n",
       " 'Help:Disambiguation']"
      ]
     },
     "execution_count": 4,
     "metadata": {},
     "output_type": "execute_result"
    }
   ],
   "source": [
    "#Now we can do, put a start and end article or word. We would then try to loop through the links,\n",
    "#Then go down the links and search the page for the end article. \n",
    "#We'll also have to log each link we used to move on.\n",
    "start_article = \"Strand Theatre\"\n",
    "end_article = \"America's Cup\"\n",
    "getText(start_article, end_article)\n",
    "getLinks(start_article)"
   ]
  },
  {
   "cell_type": "code",
   "execution_count": 22,
   "metadata": {},
   "outputs": [],
   "source": [
    "import requests\n",
    "from bs4 import BeautifulSoup\n",
    "import webbrowser\n",
    "import csv\n",
    "articles = []\n",
    "for x in range(0,20):\n",
    "    url = requests.get(\"https://en.wikipedia.org/wiki/Special:Random\")\n",
    "    soup = BeautifulSoup(url.content, \"html.parser\")\n",
    "    title = soup.find(class_=\"firstHeading\").text\n",
    "    articles.append(title)\n",
    "with open('randomArticles.csv', 'w', encoding='UTF8', newline='') as f:\n",
    "    writer = csv.writer(f)\n",
    "    for location in articles:\n",
    "        # write multiple rows\n",
    "        writer.writerow([location])"
   ]
  },
  {
   "cell_type": "code",
   "execution_count": null,
   "metadata": {},
   "outputs": [],
   "source": []
  }
 ],
 "metadata": {
  "kernelspec": {
   "display_name": "Python 3",
   "language": "python",
   "name": "python3"
  },
  "language_info": {
   "codemirror_mode": {
    "name": "ipython",
    "version": 3
   },
   "file_extension": ".py",
   "mimetype": "text/x-python",
   "name": "python",
   "nbconvert_exporter": "python",
   "pygments_lexer": "ipython3",
   "version": "3.8.5"
  }
 },
 "nbformat": 4,
 "nbformat_minor": 4
}
